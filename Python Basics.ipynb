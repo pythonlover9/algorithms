{
 "cells": [
  {
   "cell_type": "markdown",
   "metadata": {},
   "source": [
    "# Linear Search"
   ]
  },
  {
   "cell_type": "code",
   "execution_count": 1,
   "metadata": {
    "scrolled": true
   },
   "outputs": [
    {
     "name": "stdout",
     "output_type": "stream",
     "text": [
      "1\n",
      "None\n"
     ]
    }
   ],
   "source": [
    "#Function to return index using linear Search. \n",
    "def linear_search(inp_arr, item): \n",
    "    for i in range (len(inp_arr)):  #Check one by in the input array\n",
    "        if ( inp_arr[i] == item ): \n",
    "            return i;               #Return the index if exist   \n",
    "    return None;                    #item doesn't exist\n",
    "    \n",
    "my_list = [1, 3, 5, 7, 9]\n",
    "print( linear_search(my_list, 3) )   #Output 1 as expected\n",
    "print( linear_search(my_list, 8) )   #Output None as 8 doesn't exist "
   ]
  },
  {
   "cell_type": "markdown",
   "metadata": {},
   "source": [
    "# Binary Search"
   ]
  },
  {
   "cell_type": "code",
   "execution_count": 6,
   "metadata": {},
   "outputs": [
    {
     "name": "stdout",
     "output_type": "stream",
     "text": [
      "1\n",
      "None\n"
     ]
    }
   ],
   "source": [
    "#Function to return index using Binary Search.\n",
    "def binary_search(inp_arr, item):\n",
    "    low = 0\n",
    "    high = len(inp_arr) - 1\n",
    "    while low <= high:\n",
    "        mid = (low + high)\n",
    "        guess = inp_arr[mid]\n",
    "        if guess == item:\n",
    "            return mid\n",
    "        if guess > item:\n",
    "            high = mid - 1\n",
    "        else:\n",
    "            low = mid + 1\n",
    "    return None\n",
    "\n",
    "my_list = [1, 3, 5, 7, 9]\n",
    "\n",
    "print (binary_search(my_list, 3)) # => 1\n",
    "print (binary_search(my_list, -1)) # => None"
   ]
  },
  {
   "cell_type": "markdown",
   "metadata": {},
   "source": [
    "# Array"
   ]
  },
  {
   "cell_type": "code",
   "execution_count": 11,
   "metadata": {},
   "outputs": [
    {
     "name": "stdout",
     "output_type": "stream",
     "text": [
      "1\n",
      "4\n",
      "2\n"
     ]
    }
   ],
   "source": [
    "#Initializing the empty array\n",
    "arr = []\n",
    "\n",
    "#Appending elements at the end of the array, Array will be [1,4] after these two steps\n",
    "arr.append(1)\n",
    "arr.append(4)\n",
    "\n",
    "print(arr[0]) #Output 1, 0th index\n",
    "print(arr[1]) #Output 4, 1st index\n",
    "\n",
    "arr.insert(1,2) #Inserting 2 at index 1\n",
    "\n",
    "print(arr[1])  #Now index 1 will become 2"
   ]
  },
  {
   "cell_type": "markdown",
   "metadata": {},
   "source": [
    "# Linked List"
   ]
  },
  {
   "cell_type": "code",
   "execution_count": 14,
   "metadata": {},
   "outputs": [
    {
     "name": "stdout",
     "output_type": "stream",
     "text": [
      "1\n",
      "3\n",
      "5\n"
     ]
    }
   ],
   "source": [
    "# Node class \n",
    "class Node: \n",
    "  \n",
    "    # Function to initialise the node object \n",
    "    def __init__(self, data): \n",
    "        self.data = data  # Assign data \n",
    "        self.next = None  # Initialize next as null \n",
    "  \n",
    "  \n",
    "# Linked List class contains a Node object \n",
    "class LinkedList: \n",
    "  \n",
    "    # Function to initialize head \n",
    "    def __init__(self): \n",
    "        self.head = None\n",
    "    \n",
    "    # Print function for the list\n",
    "    def printList(self): \n",
    "        temp = self.head \n",
    "        while (temp):               #Print till the last node\n",
    "            print (temp.data), \n",
    "            temp = temp.next\n",
    "    \n",
    "if __name__=='__main__': \n",
    "  \n",
    "    # Start with the empty list \n",
    "    linked_list = LinkedList() \n",
    "    \n",
    "    #Start with the head. Assign one as the head.\n",
    "    linked_list.head = Node(1) \n",
    "    \n",
    "    #Initialize two new nodes.\n",
    "    second = Node(3) \n",
    "    third = Node(5) \n",
    "    \n",
    "    #Assign second node as next of head and third as next of second.\n",
    "    linked_list.head.next = second;\n",
    "    second.next = third;\n",
    "    \n",
    "    #Final linked list will be something like  1 -> 3 -> 5\n",
    "    linked_list.printList()"
   ]
  },
  {
   "cell_type": "markdown",
   "metadata": {},
   "source": [
    "# Selection Sort"
   ]
  },
  {
   "cell_type": "code",
   "execution_count": 17,
   "metadata": {},
   "outputs": [
    {
     "name": "stdout",
     "output_type": "stream",
     "text": [
      "[2, 3, 5, 6, 10]\n"
     ]
    }
   ],
   "source": [
    "def findSmallest(arr):\n",
    "    smallest = arr[0]            #Stores the smallest value\n",
    "    smallest_index = 0           #Stores the index of the smallest value\n",
    "    for i in range(1, len(arr)):\n",
    "        if arr[i] < smallest:\n",
    "            smallest = arr[i]\n",
    "            smallest_index = i\n",
    "    return smallest_index\n",
    "\n",
    "def selectionSort(arr):                    #Sorts an array using selection sort\n",
    "    newArr = []\n",
    "    for i in range(len(arr)):\n",
    "        smallest = findSmallest(arr)\n",
    "        newArr.append(arr.pop(smallest))   #Removing smallest from arr and appending it in new_arr\n",
    "    return newArr\n",
    "\n",
    "print (selectionSort([5, 3, 6, 2, 10]))\n"
   ]
  },
  {
   "cell_type": "markdown",
   "metadata": {},
   "source": [
    "# Recursion"
   ]
  },
  {
   "cell_type": "code",
   "execution_count": 20,
   "metadata": {},
   "outputs": [
    {
     "name": "stdout",
     "output_type": "stream",
     "text": [
      "3\n",
      "2\n",
      "1\n",
      "0\n"
     ]
    }
   ],
   "source": [
    "#Function to Print all whole numbers less than n\n",
    "\n",
    "def countdown(n):\n",
    "    print (n)\n",
    "    if n <= 0:              #Base case, Return if value is negative\n",
    "        return\n",
    "    else:                   #Recursive case\n",
    "        countdown(n-1)\n",
    "\n",
    "countdown(3)"
   ]
  },
  {
   "cell_type": "markdown",
   "metadata": {},
   "source": [
    "# LIFO"
   ]
  },
  {
   "cell_type": "code",
   "execution_count": 21,
   "metadata": {},
   "outputs": [
    {
     "name": "stdout",
     "output_type": "stream",
     "text": [
      "[1, 2, 3, 4, 5]\n",
      "5\n",
      "[1, 2, 3, 4]\n",
      "4\n",
      "[1, 2, 3]\n"
     ]
    }
   ],
   "source": [
    "#Stack works on last in First out\n",
    "\n",
    "# Stack using list \n",
    "stack = [ 1, 2, 3 ] \n",
    "stack.append(4) \n",
    "stack.append(5)   \n",
    "\n",
    "print(stack)          #Stack after this will be  1-> 2 -> 3 -> 4 -> 5\n",
    "\n",
    "print(stack.pop())    #Output 5 since 5 entered last\n",
    "print(stack)          #Stack after this will be  1-> 2 -> 3 -> 4\n",
    "\n",
    "print(stack.pop())    #Output 4 since 4 entered in the current stack\n",
    "print(stack)          #Stack after this will be  1-> 2 -> 3"
   ]
  },
  {
   "cell_type": "markdown",
   "metadata": {},
   "source": [
    "# FIFO"
   ]
  },
  {
   "cell_type": "code",
   "execution_count": 25,
   "metadata": {},
   "outputs": [
    {
     "name": "stdout",
     "output_type": "stream",
     "text": [
      "[1, 2, 3, 4, 5]\n",
      "1\n",
      "[2, 3, 4, 5]\n",
      "2\n",
      "[3, 4, 5]\n"
     ]
    }
   ],
   "source": [
    "#Queue works on First in First out\n",
    "\n",
    "#Queue using list\n",
    "queue = [1, 2, 3]\n",
    "queue.append(4) \n",
    "queue.append(5) \n",
    "\n",
    "print(queue)            #Stack after this will be  1-> 2 -> 3 -> 4 -> 5\n",
    "print(queue.pop(0))     \n",
    "print(queue)            #Stack after this will be  2 -> 3 -> 4 -> 5\n",
    "print(queue.pop(0))                 \n",
    "print(queue)            #Stack after this will be  3 -> 4 -> 5"
   ]
  },
  {
   "cell_type": "markdown",
   "metadata": {},
   "source": [
    "# Quick Sort"
   ]
  },
  {
   "cell_type": "code",
   "execution_count": 26,
   "metadata": {},
   "outputs": [
    {
     "name": "stdout",
     "output_type": "stream",
     "text": [
      "[2, 3, 5, 10]\n"
     ]
    }
   ],
   "source": [
    "def quicksort(array):\n",
    "    if len(array) < 2:\n",
    "        return array                                        #Base case: arrays with 0 or 1 element are already “sorted.”\n",
    "    else:\n",
    "        pivot = array[0]                                    #Recursive case\n",
    "    less = [i for i in array[1:] if i <= pivot]             #Sub-array of all the elements less than the pivot\n",
    "    greater = [i for i in array[1:] if i > pivot]           #Sub-array of all the elements greater than the pivot\n",
    "    return quicksort(less) + [pivot] + quicksort(greater)\n",
    "\n",
    "print (quicksort([10, 5, 2, 3]))"
   ]
  },
  {
   "cell_type": "markdown",
   "metadata": {},
   "source": [
    "# Merge Sort"
   ]
  },
  {
   "cell_type": "code",
   "execution_count": 34,
   "metadata": {},
   "outputs": [
    {
     "name": "stdout",
     "output_type": "stream",
     "text": [
      "[2, 3, 5, 10]\n"
     ]
    }
   ],
   "source": [
    "def merge(arr, l, m, r): \n",
    "    #length of both the halves\n",
    "    n1 = m - l + 1\n",
    "    n2 = r- m \n",
    "  \n",
    "    # create temp arrays \n",
    "    L = [0]*(n1)\n",
    "    R = [0]*(n2) \n",
    "  \n",
    "    # Copy data to temp arrays L[] and R[] \n",
    "    for i in range(0 , n1): \n",
    "        L[i] = arr[l + i] \n",
    "  \n",
    "    for j in range(0 , n2): \n",
    "        R[j] = arr[m + 1 + j] \n",
    "  \n",
    "    # Merge the temp arrays back into arr[l..r] \n",
    "    i = 0     # Initial index of first subarray \n",
    "    j = 0     # Initial index of second subarray \n",
    "    k = l     # Initial index of merged subarray \n",
    "  \n",
    "    while i < n1 and j < n2 : \n",
    "        if L[i] <= R[j]: \n",
    "            arr[k] = L[i] \n",
    "            i += 1\n",
    "        else: \n",
    "            arr[k] = R[j] \n",
    "            j += 1\n",
    "        k += 1\n",
    "  \n",
    "    # Copy the remaining elements of L[], if there \n",
    "    # are any \n",
    "    while i < n1: \n",
    "        arr[k] = L[i] \n",
    "        i += 1\n",
    "        k += 1\n",
    "  \n",
    "    # Copy the remaining elements of R[], if there \n",
    "    # are any \n",
    "    while j < n2: \n",
    "        arr[k] = R[j] \n",
    "        j += 1\n",
    "        k += 1\n",
    "\n",
    "def mergeSort(arr,l,r): \n",
    "    if l < r: \n",
    "        # Find the mid point  \n",
    "        m = int((l+r)/2)\n",
    "  \n",
    "        # Sort first and second halves \n",
    "        mergeSort(arr, l, m) \n",
    "        mergeSort(arr, m+1, r) \n",
    "        #Merge both the sorted halves\n",
    "        merge(arr, l, m, r) \n",
    "  \n",
    "  \n",
    "# Testing\n",
    "arr = [10, 5, 2, 3]\n",
    "n = len(arr) \n",
    "  \n",
    "mergeSort(arr,0,n-1)\n",
    "print(arr)\n"
   ]
  },
  {
   "cell_type": "markdown",
   "metadata": {},
   "source": [
    "# Hash Table"
   ]
  },
  {
   "cell_type": "code",
   "execution_count": 37,
   "metadata": {
    "scrolled": true
   },
   "outputs": [
    {
     "name": "stdout",
     "output_type": "stream",
     "text": [
      "{'apple': 0.67, 'milk': 1.49, 'avocado': 1.49}\n",
      "0.67\n"
     ]
    }
   ],
   "source": [
    "# In Python Dictionary is a hash table \n",
    "book = {}\n",
    "book['apple'] = 0.67                   #An apple costs 67 cents.\n",
    "book['milk'] = 1.49                    #Milk costs $1.49.\n",
    "book['avocado'] = 1.49                 #Same for Avocado\n",
    "print (book)\n",
    "\n",
    "#apple key of dictionary\n",
    "print (book['apple'])"
   ]
  },
  {
   "cell_type": "markdown",
   "metadata": {},
   "source": [
    "# MD5 and SHA"
   ]
  },
  {
   "cell_type": "code",
   "execution_count": 2,
   "metadata": {},
   "outputs": [
    {
     "name": "stdout",
     "output_type": "stream",
     "text": [
      "The hexadecimal equivalent of SHA1 is : \n",
      "a9993e364706816aba3e25717850c26c9cd0d89d\n",
      "cb4cc28df0fdbe0ecf9d9662e294b118092a5735\n",
      "\n",
      "\n",
      "The hexadecimal equivalent of MD5 is : \n",
      "900150983cd24fb0d6963f7d28e17f72\n",
      "4911e516e5aa21d327512e0c8b197616\n"
     ]
    }
   ],
   "source": [
    "import hashlib \n",
    "  \n",
    "# initializing string \n",
    "string = \"abc\"\n",
    "string2 = \"abd\"\n",
    "  \n",
    "# encoding abc string using encode() \n",
    "# then sending to SHA1() \n",
    "result = hashlib.sha1(string.encode()) \n",
    "result2 = hashlib.sha1(string2.encode()) \n",
    "\n",
    "# printing the equivalent hexadecimal value. \n",
    "print(\"The hexadecimal equivalent of SHA1 is : \") \n",
    "print(result.hexdigest())\n",
    "print(result2.hexdigest())              #Result is not similar   \n",
    "print('\\n')\n",
    "\n",
    "# encoding abc string using encode() \n",
    "# then sending to MD5() \n",
    "result = hashlib.md5(string.encode()) \n",
    "result2 = hashlib.md5(string2.encode())  \n",
    "    \n",
    "# printing the equivalent hexadecimal value. \n",
    "print(\"The hexadecimal equivalent of MD5 is : \") \n",
    "print(result.hexdigest())\n",
    "print(result2.hexdigest())              #Result is not similar   "
   ]
  }
 ],
 "metadata": {
  "kernelspec": {
   "display_name": "Python 3",
   "language": "python",
   "name": "python3"
  },
  "language_info": {
   "codemirror_mode": {
    "name": "ipython",
    "version": 3
   },
   "file_extension": ".py",
   "mimetype": "text/x-python",
   "name": "python",
   "nbconvert_exporter": "python",
   "pygments_lexer": "ipython3",
   "version": "3.7.4"
  }
 },
 "nbformat": 4,
 "nbformat_minor": 2
}
